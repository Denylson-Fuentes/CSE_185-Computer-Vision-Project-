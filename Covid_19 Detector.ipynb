{
 "cells": [
  {
   "cell_type": "code",
   "execution_count": 1,
   "id": "accompanied-wisdom",
   "metadata": {},
   "outputs": [],
   "source": [
    "import numpy as np\n",
    "import cv2\n",
    "import os\n",
    "import matplotlib.pyplot as plt\n",
    "from tensorflow.keras.preprocessing.image import ImageDataGenerator\n",
    "from PIL import Image\n",
    "import PIL\n",
    "\n",
    "#For image segmentation\n",
    "import skimage.data as data\n",
    "import skimage.segmentation as seg\n",
    "import skimage.filters as filters\n",
    "import skimage.draw as draw\n",
    "import skimage.color as color\n",
    "\n",
    "\n",
    "import keras as keras\n",
    "from keras.models import Sequential\n",
    "from keras.layers import Dense, Conv2D, MaxPooling2D, Flatten, AveragePooling2D\n"
   ]
  },
  {
   "cell_type": "code",
   "execution_count": 2,
   "id": "casual-albert",
   "metadata": {},
   "outputs": [],
   "source": [
    "def image_show(image, nrows = 1, ncols =1, cmap = 'gray'):\n",
    "    fig, ax = plt.subplots(nrows = nrows, ncols = ncols, figsize = (14,14))\n",
    "    ax.imshow(image, cmap = 'gray')\n",
    "    ax.axis(\"off\")\n",
    "    return fig, ax"
   ]
  },
  {
   "cell_type": "code",
   "execution_count": 3,
   "id": "described-wilderness",
   "metadata": {},
   "outputs": [],
   "source": [
    "def processes_image(path):\n",
    "    \n",
    "    for entry in os.listdir(path):\n",
    "        if os.path.isfile(os.path.join(path, entry)):\n",
    "            image = os.path.join(path, entry)\n",
    "            \n",
    "            \n",
    "            img = cv2.imread(image)\n",
    "            \n",
    "            imgray = cv2.cvtColor(img, cv2.COLOR_BGR2GRAY)\n",
    "            \n",
    "            ret, thresh =  cv2.threshold(imgray, 150, 220, 0)\n",
    "            \n",
    "            contours, hierarchy = cv2.findContours(thresh, cv2.RETR_TREE, cv2.CHAIN_APPROX_NONE)\n",
    "            \n",
    "            img = cv2.drawContours(img, contours, -1, (0,255,0), 3)\n",
    "            \n",
    "            img_slic = seg.slic(img, n_segments = 140)\n",
    "            \n",
    "            img = color.label2rgb(img_slic, img, kind = 'avg')\n",
    "            cv2.imwrite(image, img)\n",
    "            \n",
    "    "
   ]
  },
  {
   "cell_type": "code",
   "execution_count": 4,
   "id": "british-roads",
   "metadata": {},
   "outputs": [],
   "source": [
    "Normal_train_path = \"./Covid19-dataset/train/Normal\"\n",
    "Covid_train_path = \"./Covid19-dataset/train/Covid\"\n",
    "Pneumonia_train_path = \"./Covid19-dataset/train/Viral Pneumonia\"\n",
    "\n",
    "Normal_test_path = \"./Covid19-dataset/test/Normal\"\n",
    "Covid_test_path = \"./Covid19-dataset/test/Covid\"\n",
    "Pneumonia_test_path = \"./Covid19-dataset/test/Viral Pneumonia\""
   ]
  },
  {
   "cell_type": "code",
   "execution_count": 6,
   "id": "classified-method",
   "metadata": {},
   "outputs": [],
   "source": [
    "processes_image(Normal_train_path)\n",
    "processes_image(Covid_train_path)\n",
    "processes_image(Pneumonia_train_path)\n",
    "\n",
    "processes_image(Normal_test_path)\n",
    "processes_image(Covid_test_path)\n",
    "processes_image(Pneumonia_test_path)"
   ]
  },
  {
   "cell_type": "code",
   "execution_count": 9,
   "id": "ongoing-smoke",
   "metadata": {},
   "outputs": [
    {
     "name": "stdout",
     "output_type": "stream",
     "text": [
      "Found 251 images belonging to 3 classes.\n",
      "Found 66 images belonging to 3 classes.\n"
     ]
    }
   ],
   "source": [
    "train_path = \"./Covid19-dataset/train\"\n",
    "test_path = \"./Covid19-dataset/test\"\n",
    "\n",
    "train_datagen = ImageDataGenerator(\n",
    "    rescale = 1/255,\n",
    "    horizontal_flip = True,\n",
    "    zoom_range = 0.3\n",
    ")\n",
    "\n",
    "test_datagen = ImageDataGenerator(\n",
    "    rescale = 1/255,\n",
    "    zoom_range = 0.1,\n",
    "    fill_mode = \"nearest\"\n",
    ")\n",
    "\n",
    "train_generator = train_datagen.flow_from_directory(\n",
    "    train_path,\n",
    "    batch_size = 4,\n",
    "    class_mode = 'categorical'\n",
    ")\n",
    "\n",
    "test_generator = test_datagen.flow_from_directory(\n",
    "    test_path,\n",
    "    batch_size = 2,\n",
    "    class_mode = \"categorical\"\n",
    ")"
   ]
  },
  {
   "cell_type": "code",
   "execution_count": 24,
   "id": "ranging-culture",
   "metadata": {},
   "outputs": [],
   "source": [
    "#Creating model\n",
    "CNN_model = Sequential()"
   ]
  },
  {
   "cell_type": "code",
   "execution_count": 25,
   "id": "systematic-disney",
   "metadata": {},
   "outputs": [],
   "source": [
    "#Building and Configuring model\n",
    "\n",
    "#1st Convolution Layer\n",
    "CNN_model.add(Conv2D(16, kernel_size = (3,3), padding = \"valid\", activation = 'relu'))\n",
    "CNN_model.add(Conv2D(32, kernel_size = (3,3), padding = \"valid\", activation = 'relu'))\n",
    "CNN_model.add(Conv2D(64, kernel_size = (5,5), padding = \"same\"))\n",
    "CNN_model.add(MaxPooling2D(pool_size = (2,2), padding = \"valid\"))\n",
    "\n",
    "#2nd Convolutional Layer\n",
    "CNN_model.add(Conv2D(64, kernel_size = (5,5), padding = \"same\", activation = 'relu'))\n",
    "CNN_model.add(Conv2D(64, kernel_size = (5,5), padding = \"same\", activation = 'relu'))\n",
    "CNN_model.add(Conv2D(128, kernel_size = (3,3), padding = \"valid\"))\n",
    "CNN_model.add(MaxPooling2D(pool_size = (3,3)))\n",
    "\n",
    "#Flattening images into vectors\n",
    "CNN_model.add(Flatten())\n",
    "\n",
    "#Dense Layers and output layer\n",
    "CNN_model.add(Dense(units = 128, activation = \"relu\"))\n",
    "CNN_model.add(Dense(units = 64, activation = \"relu\"))\n",
    "CNN_model.add(Dense(units = 32, activation = \"relu\"))\n",
    "CNN_model.add(Dense(units = 16, activation = \"relu\"))\n",
    "CNN_model.add(Dense(units = 3, activation = \"softmax\"))"
   ]
  },
  {
   "cell_type": "code",
   "execution_count": 26,
   "id": "transparent-taste",
   "metadata": {},
   "outputs": [],
   "source": [
    "CNN_model.compile(optimizer = 'adam', loss = 'categorical_crossentropy', metrics = ['accuracy'])"
   ]
  },
  {
   "cell_type": "code",
   "execution_count": 27,
   "id": "whole-workshop",
   "metadata": {},
   "outputs": [
    {
     "name": "stdout",
     "output_type": "stream",
     "text": [
      "Epoch 1/10\n",
      "63/63 [==============================] - 60s 948ms/step - loss: 1.0963 - accuracy: 0.4502 - val_loss: 0.9116 - val_accuracy: 0.6515\n",
      "Epoch 2/10\n",
      "63/63 [==============================] - 59s 944ms/step - loss: 0.7909 - accuracy: 0.6693 - val_loss: 0.7307 - val_accuracy: 0.6818\n",
      "Epoch 3/10\n",
      "63/63 [==============================] - 59s 942ms/step - loss: 0.8633 - accuracy: 0.6335 - val_loss: 1.7173 - val_accuracy: 0.5909\n",
      "Epoch 4/10\n",
      "63/63 [==============================] - 59s 943ms/step - loss: 0.7126 - accuracy: 0.7490 - val_loss: 0.6777 - val_accuracy: 0.7727\n",
      "Epoch 5/10\n",
      "63/63 [==============================] - 60s 951ms/step - loss: 0.5398 - accuracy: 0.7689 - val_loss: 0.6970 - val_accuracy: 0.7879\n",
      "Epoch 6/10\n",
      "63/63 [==============================] - 59s 941ms/step - loss: 0.9221 - accuracy: 0.7649 - val_loss: 0.8249 - val_accuracy: 0.6212\n",
      "Epoch 7/10\n",
      "63/63 [==============================] - 59s 941ms/step - loss: 0.7235 - accuracy: 0.6653 - val_loss: 0.4983 - val_accuracy: 0.7727\n",
      "Epoch 8/10\n",
      "63/63 [==============================] - 59s 940ms/step - loss: 0.4676 - accuracy: 0.8486 - val_loss: 0.7938 - val_accuracy: 0.7727\n",
      "Epoch 9/10\n",
      "63/63 [==============================] - 59s 940ms/step - loss: 0.4422 - accuracy: 0.8406 - val_loss: 0.5452 - val_accuracy: 0.8182\n",
      "Epoch 10/10\n",
      "63/63 [==============================] - 59s 941ms/step - loss: 0.4043 - accuracy: 0.8327 - val_loss: 0.5952 - val_accuracy: 0.8333\n"
     ]
    },
    {
     "data": {
      "text/plain": [
       "<tensorflow.python.keras.callbacks.History at 0x25f19f6acc8>"
      ]
     },
     "execution_count": 27,
     "metadata": {},
     "output_type": "execute_result"
    }
   ],
   "source": [
    "CNN_model.fit(\n",
    "    train_generator,\n",
    "    epochs = 10,\n",
    "    validation_data= test_generator\n",
    ")"
   ]
  },
  {
   "cell_type": "code",
   "execution_count": null,
   "id": "exterior-messaging",
   "metadata": {},
   "outputs": [],
   "source": []
  }
 ],
 "metadata": {
  "kernelspec": {
   "display_name": "Python 3",
   "language": "python",
   "name": "python3"
  },
  "language_info": {
   "codemirror_mode": {
    "name": "ipython",
    "version": 3
   },
   "file_extension": ".py",
   "mimetype": "text/x-python",
   "name": "python",
   "nbconvert_exporter": "python",
   "pygments_lexer": "ipython3",
   "version": "3.7.9"
  }
 },
 "nbformat": 4,
 "nbformat_minor": 5
}
